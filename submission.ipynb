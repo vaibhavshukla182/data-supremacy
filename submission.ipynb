{
 "cells": [
  {
   "cell_type": "code",
   "execution_count": 8,
   "metadata": {},
   "outputs": [],
   "source": [
    "import pandas as pd\n",
    "import numpy as np\n",
    "import matplotlib.pyplot as plt\n",
    "import seaborn as sns\n",
    "from warnings import filterwarnings\n",
    "import re\n",
    "regex = re.compile(r\"\\[|\\]|<\", re.IGNORECASE)\n",
    "import warnings\n",
    "def ignore_warn(*args, **kwargs):\n",
    "    pass\n",
    "warnings.warn = ignore_warn\n"
   ]
  },
  {
   "cell_type": "code",
   "execution_count": 9,
   "metadata": {},
   "outputs": [],
   "source": [
    "train=pd.read_csv('train.csv')\n",
    "test=pd.read_csv('test.csv')\n",
    "sample=pd.read_csv('sample_submission.csv')"
   ]
  },
  {
   "cell_type": "code",
   "execution_count": 10,
   "metadata": {},
   "outputs": [
    {
     "data": {
      "text/html": [
       "<div>\n",
       "<style scoped>\n",
       "    .dataframe tbody tr th:only-of-type {\n",
       "        vertical-align: middle;\n",
       "    }\n",
       "\n",
       "    .dataframe tbody tr th {\n",
       "        vertical-align: top;\n",
       "    }\n",
       "\n",
       "    .dataframe thead th {\n",
       "        text-align: right;\n",
       "    }\n",
       "</style>\n",
       "<table border=\"1\" class=\"dataframe\">\n",
       "  <thead>\n",
       "    <tr style=\"text-align: right;\">\n",
       "      <th></th>\n",
       "      <th>enrollee_id</th>\n",
       "      <th>target</th>\n",
       "    </tr>\n",
       "  </thead>\n",
       "  <tbody>\n",
       "    <tr>\n",
       "      <th>0</th>\n",
       "      <td>16548</td>\n",
       "      <td>0</td>\n",
       "    </tr>\n",
       "    <tr>\n",
       "      <th>1</th>\n",
       "      <td>12036</td>\n",
       "      <td>0</td>\n",
       "    </tr>\n",
       "    <tr>\n",
       "      <th>2</th>\n",
       "      <td>11061</td>\n",
       "      <td>0</td>\n",
       "    </tr>\n",
       "    <tr>\n",
       "      <th>3</th>\n",
       "      <td>5032</td>\n",
       "      <td>0</td>\n",
       "    </tr>\n",
       "    <tr>\n",
       "      <th>4</th>\n",
       "      <td>17599</td>\n",
       "      <td>0</td>\n",
       "    </tr>\n",
       "  </tbody>\n",
       "</table>\n",
       "</div>"
      ],
      "text/plain": [
       "   enrollee_id  target\n",
       "0        16548       0\n",
       "1        12036       0\n",
       "2        11061       0\n",
       "3         5032       0\n",
       "4        17599       0"
      ]
     },
     "execution_count": 10,
     "metadata": {},
     "output_type": "execute_result"
    }
   ],
   "source": [
    "sample.head()"
   ]
  },
  {
   "cell_type": "code",
   "execution_count": 11,
   "metadata": {
    "scrolled": false
   },
   "outputs": [
    {
     "name": "stdout",
     "output_type": "stream",
     "text": [
      "<class 'pandas.core.frame.DataFrame'>\n",
      "RangeIndex: 18359 entries, 0 to 18358\n",
      "Data columns (total 14 columns):\n",
      "enrollee_id               18359 non-null int64\n",
      "city                      18359 non-null object\n",
      "city_development_index    18359 non-null float64\n",
      "gender                    14261 non-null object\n",
      "relevent_experience       18359 non-null object\n",
      "enrolled_university       18017 non-null object\n",
      "enrolled_university.1     17902 non-null object\n",
      "major_discipline          15521 non-null object\n",
      "experience                18300 non-null object\n",
      "company_size              13580 non-null object\n",
      "company_type              13320 non-null object\n",
      "last_new_job              17992 non-null object\n",
      "training_hours            18359 non-null int64\n",
      "target                    18359 non-null int64\n",
      "dtypes: float64(1), int64(3), object(10)\n",
      "memory usage: 2.0+ MB\n",
      "<class 'pandas.core.frame.DataFrame'>\n",
      "RangeIndex: 15021 entries, 0 to 15020\n",
      "Data columns (total 13 columns):\n",
      "enrollee_id               15021 non-null int64\n",
      "city                      15021 non-null object\n",
      "city_development_index    15021 non-null float64\n",
      "gender                    11633 non-null object\n",
      "relevent_experience       15021 non-null object\n",
      "enrolled_university       14742 non-null object\n",
      "enrolled_university.1     14626 non-null object\n",
      "major_discipline          12628 non-null object\n",
      "experience                14977 non-null object\n",
      "company_size              10970 non-null object\n",
      "company_type              10691 non-null object\n",
      "last_new_job              14717 non-null object\n",
      "training_hours            15021 non-null int64\n",
      "dtypes: float64(1), int64(2), object(10)\n",
      "memory usage: 1.5+ MB\n"
     ]
    }
   ],
   "source": [
    "#target=train.pop('target')\n",
    "train.info()\n",
    "test.info()"
   ]
  },
  {
   "cell_type": "code",
   "execution_count": 12,
   "metadata": {},
   "outputs": [
    {
     "data": {
      "text/plain": [
       "0    15934\n",
       "1     2425\n",
       "Name: target, dtype: int64"
      ]
     },
     "execution_count": 12,
     "metadata": {},
     "output_type": "execute_result"
    }
   ],
   "source": [
    "train.target.value_counts()"
   ]
  },
  {
   "cell_type": "code",
   "execution_count": 13,
   "metadata": {},
   "outputs": [],
   "source": [
    "train['train']=1\n",
    "test['train']=0\n",
    "combined = pd.concat([train, test])"
   ]
  },
  {
   "cell_type": "code",
   "execution_count": 14,
   "metadata": {},
   "outputs": [
    {
     "name": "stdout",
     "output_type": "stream",
     "text": [
      "<class 'pandas.core.frame.DataFrame'>\n",
      "Int64Index: 33380 entries, 0 to 15020\n",
      "Data columns (total 15 columns):\n",
      "city                      33380 non-null object\n",
      "city_development_index    33380 non-null float64\n",
      "company_size              24550 non-null object\n",
      "company_type              24011 non-null object\n",
      "enrolled_university       32759 non-null object\n",
      "enrolled_university.1     32528 non-null object\n",
      "enrollee_id               33380 non-null int64\n",
      "experience                33277 non-null object\n",
      "gender                    25894 non-null object\n",
      "last_new_job              32709 non-null object\n",
      "major_discipline          28149 non-null object\n",
      "relevent_experience       33380 non-null object\n",
      "target                    18359 non-null float64\n",
      "train                     33380 non-null int64\n",
      "training_hours            33380 non-null int64\n",
      "dtypes: float64(2), int64(3), object(10)\n",
      "memory usage: 4.1+ MB\n"
     ]
    }
   ],
   "source": [
    "combined.info()"
   ]
  },
  {
   "cell_type": "code",
   "execution_count": 15,
   "metadata": {},
   "outputs": [
    {
     "name": "stdout",
     "output_type": "stream",
     "text": [
      "<class 'pandas.core.frame.DataFrame'>\n",
      "Int64Index: 33380 entries, 0 to 15020\n",
      "Data columns (total 15 columns):\n",
      "city                      33380 non-null object\n",
      "city_development_index    33380 non-null float64\n",
      "company_size              24550 non-null object\n",
      "company_type              24011 non-null object\n",
      "enrolled_university       32759 non-null object\n",
      "enrolled_university.1     32528 non-null object\n",
      "enrollee_id               33380 non-null int64\n",
      "experience                33277 non-null object\n",
      "gender                    25894 non-null object\n",
      "last_new_job              32709 non-null object\n",
      "major_discipline          28149 non-null object\n",
      "relevent_experience       33380 non-null object\n",
      "target                    18359 non-null float64\n",
      "train                     33380 non-null int64\n",
      "training_hours            33380 non-null int64\n",
      "dtypes: float64(2), int64(3), object(10)\n",
      "memory usage: 4.1+ MB\n"
     ]
    }
   ],
   "source": [
    "combined.info()"
   ]
  },
  {
   "cell_type": "code",
   "execution_count": 16,
   "metadata": {},
   "outputs": [],
   "source": [
    "#combined.groupby('enrolled_university')['enrollee_id'].nunique()"
   ]
  },
  {
   "cell_type": "code",
   "execution_count": 17,
   "metadata": {},
   "outputs": [],
   "source": [
    "combined.enrolled_university.fillna('no_enrollment',inplace=True)"
   ]
  },
  {
   "cell_type": "code",
   "execution_count": 18,
   "metadata": {},
   "outputs": [
    {
     "data": {
      "text/plain": [
       "enrolled_university.1\n",
       "Graduate          19512\n",
       "High School        3708\n",
       "Masters            7797\n",
       "Phd                 881\n",
       "Primary School      630\n",
       "Name: enrollee_id, dtype: int64"
      ]
     },
     "execution_count": 18,
     "metadata": {},
     "output_type": "execute_result"
    }
   ],
   "source": [
    "combined.groupby('enrolled_university.1')['enrollee_id'].nunique()"
   ]
  },
  {
   "cell_type": "code",
   "execution_count": 19,
   "metadata": {},
   "outputs": [],
   "source": [
    "combined['enrolled_university.1'].fillna('Graduate',inplace=True)\n",
    "combined['gender'].fillna('Male',inplace=True)\n",
    "\n"
   ]
  },
  {
   "cell_type": "code",
   "execution_count": 20,
   "metadata": {},
   "outputs": [
    {
     "data": {
      "text/plain": [
       "major_discipline\n",
       "Arts                 432\n",
       "Business Degree      585\n",
       "Humanities          1212\n",
       "No Major             387\n",
       "Other                678\n",
       "STEM               24855\n",
       "Name: enrollee_id, dtype: int64"
      ]
     },
     "execution_count": 20,
     "metadata": {},
     "output_type": "execute_result"
    }
   ],
   "source": [
    "combined.groupby('major_discipline')['enrollee_id'].nunique()"
   ]
  },
  {
   "cell_type": "code",
   "execution_count": 21,
   "metadata": {},
   "outputs": [],
   "source": [
    "combined['major_discipline'].fillna('STEM',inplace=True)"
   ]
  },
  {
   "cell_type": "code",
   "execution_count": 22,
   "metadata": {},
   "outputs": [
    {
     "data": {
      "text/plain": [
       "experience\n",
       "1       818\n",
       "10     1753\n",
       "11     1190\n",
       "12      905\n",
       "13      763\n",
       "14     1080\n",
       "15     1244\n",
       "16      964\n",
       "17      659\n",
       "18      533\n",
       "19      590\n",
       "2      1756\n",
       "20      321\n",
       "3      2166\n",
       "4      2240\n",
       "5      2400\n",
       "6      2039\n",
       "7      1779\n",
       "8      1423\n",
       "9      1722\n",
       "<1      782\n",
       ">20    6150\n",
       "Name: enrollee_id, dtype: int64"
      ]
     },
     "execution_count": 22,
     "metadata": {},
     "output_type": "execute_result"
    }
   ],
   "source": [
    "combined.groupby('experience')['enrollee_id'].nunique()\n"
   ]
  },
  {
   "cell_type": "code",
   "execution_count": 23,
   "metadata": {},
   "outputs": [],
   "source": [
    "combined['experience'].fillna('>20',inplace=True)\n",
    "combined.company_type.fillna('Pvt Ltd',inplace=True)"
   ]
  },
  {
   "cell_type": "code",
   "execution_count": 24,
   "metadata": {},
   "outputs": [
    {
     "data": {
      "text/plain": [
       "50-99        5697\n",
       "100-500      4845\n",
       "10000+       3666\n",
       "10/49        2664\n",
       "1000-4999    2513\n",
       "<10          2464\n",
       "500-999      1639\n",
       "5000-9999    1062\n",
       "Name: company_size, dtype: int64"
      ]
     },
     "execution_count": 24,
     "metadata": {},
     "output_type": "execute_result"
    }
   ],
   "source": [
    "combined.company_size.value_counts()"
   ]
  },
  {
   "cell_type": "code",
   "execution_count": 25,
   "metadata": {},
   "outputs": [],
   "source": [
    "#combined.groupby['company_type','company_size'].size()"
   ]
  },
  {
   "cell_type": "code",
   "execution_count": 26,
   "metadata": {},
   "outputs": [],
   "source": [
    "combined['last_new_job'].fillna(1,inplace=True)"
   ]
  },
  {
   "cell_type": "code",
   "execution_count": null,
   "metadata": {},
   "outputs": [],
   "source": []
  },
  {
   "cell_type": "code",
   "execution_count": null,
   "metadata": {},
   "outputs": [],
   "source": [
    "#train['gender']=train.apply(lambda x: 'Male' if pd.isnull(x['gender']) and x['experience']=='>20' else x['gender'],axis=1)"
   ]
  },
  {
   "cell_type": "code",
   "execution_count": 80,
   "metadata": {
    "scrolled": true
   },
   "outputs": [
    {
     "name": "stdout",
     "output_type": "stream",
     "text": [
      "<class 'pandas.core.frame.DataFrame'>\n",
      "Int64Index: 33380 entries, 0 to 15020\n",
      "Data columns (total 15 columns):\n",
      "city                      33380 non-null object\n",
      "city_development_index    33380 non-null float64\n",
      "company_size              24550 non-null object\n",
      "company_type              33380 non-null object\n",
      "enrolled_university       33380 non-null object\n",
      "enrolled_university.1     33380 non-null object\n",
      "enrollee_id               33380 non-null int64\n",
      "experience                33380 non-null object\n",
      "gender                    33380 non-null object\n",
      "last_new_job              33380 non-null object\n",
      "major_discipline          33380 non-null object\n",
      "relevent_experience       33380 non-null object\n",
      "target                    18359 non-null float64\n",
      "train                     33380 non-null int64\n",
      "training_hours            33380 non-null int64\n",
      "dtypes: float64(2), int64(3), object(10)\n",
      "memory usage: 4.1+ MB\n"
     ]
    }
   ],
   "source": [
    "combined.info()\n",
    "combined.columns = [regex.sub(\"_\", col) if any(x in str(col) for x in set(('[', ']', '<'))) else col for col in combined.columns.values]"
   ]
  },
  {
   "cell_type": "code",
   "execution_count": 81,
   "metadata": {},
   "outputs": [],
   "source": [
    "combined['relevent_experience']=pd.factorize(combined['relevent_experience'])[0]\n",
    "combined['enrolled_university']=pd.factorize(combined['enrolled_university'])[0]\n",
    "combined['enrolled_university.1']=pd.factorize(combined['enrolled_university.1'])[0]\n",
    "combined['major_discipline']=pd.factorize(combined['major_discipline'])[0]\n",
    "combined['experience']=pd.factorize(combined['experience'])[0]\n",
    "combined['last_new_job']=pd.factorize(combined['last_new_job'])[0]\n",
    "combined['training_hours']=pd.factorize(combined['training_hours'])[0]\n",
    "combined['gender']=pd.factorize(combined['gender'])[0]\n",
    "combined['company_size']=pd.factorize(combined['company_size'])[0]\n",
    "combined['company_type']=pd.factorize(combined['company_type'])[0]"
   ]
  },
  {
   "cell_type": "code",
   "execution_count": null,
   "metadata": {},
   "outputs": [],
   "source": []
  },
  {
   "cell_type": "code",
   "execution_count": 82,
   "metadata": {},
   "outputs": [
    {
     "data": {
      "text/plain": [
       "city                          0\n",
       "city_development_index        0\n",
       "company_size                  0\n",
       "company_type                  0\n",
       "enrolled_university           0\n",
       "enrolled_university.1         0\n",
       "enrollee_id                   0\n",
       "experience                    0\n",
       "gender                        0\n",
       "last_new_job                  0\n",
       "major_discipline              0\n",
       "relevent_experience           0\n",
       "target                    15021\n",
       "train                         0\n",
       "training_hours                0\n",
       "dtype: int64"
      ]
     },
     "execution_count": 82,
     "metadata": {},
     "output_type": "execute_result"
    }
   ],
   "source": [
    "combined.isnull().sum()"
   ]
  },
  {
   "cell_type": "code",
   "execution_count": 83,
   "metadata": {},
   "outputs": [],
   "source": [
    "#combined.experience.nunique"
   ]
  },
  {
   "cell_type": "code",
   "execution_count": 84,
   "metadata": {},
   "outputs": [],
   "source": [
    "#dummy_fields = ['gender','relevent_experience','enrolled_university','enrolled_university.1','major_discipline','experience','last_new_job']\n",
    "#for each in dummy_fields:\n",
    "#    dummies = pd.get_dummies(combined[each], prefix=each, drop_first=False)\n",
    "#    combined = pd.concat([combined, dummies], axis=1)"
   ]
  },
  {
   "cell_type": "code",
   "execution_count": 85,
   "metadata": {},
   "outputs": [],
   "source": [
    "combined['city']=pd.factorize(combined['city'])[0]\n"
   ]
  },
  {
   "cell_type": "code",
   "execution_count": 86,
   "metadata": {},
   "outputs": [],
   "source": [
    "#combined.drop(dummy_fields,axis=1,inplace=True)\n",
    "#combined.drop(['company_type','gender','company_size'],axis=1,inplace=True)"
   ]
  },
  {
   "cell_type": "code",
   "execution_count": 87,
   "metadata": {},
   "outputs": [
    {
     "data": {
      "text/plain": [
       "city                          0\n",
       "city_development_index        0\n",
       "company_size                  0\n",
       "company_type                  0\n",
       "enrolled_university           0\n",
       "enrolled_university.1         0\n",
       "enrollee_id                   0\n",
       "experience                    0\n",
       "gender                        0\n",
       "last_new_job                  0\n",
       "major_discipline              0\n",
       "relevent_experience           0\n",
       "target                    15021\n",
       "train                         0\n",
       "training_hours                0\n",
       "dtype: int64"
      ]
     },
     "execution_count": 87,
     "metadata": {},
     "output_type": "execute_result"
    }
   ],
   "source": [
    "combined.columns = [regex.sub(\"_\", col) if any(x in str(col) for x in set(('[', ']', '<'))) else col for col in combined.columns.values]\n",
    "combined.isnull().sum()\n",
    "#combined.company_type.replace(-1,0,inplace=True)\n",
    "#combined.company_size.value_counts()\n",
    "#combined.company_type.value_counts()"
   ]
  },
  {
   "cell_type": "code",
   "execution_count": 88,
   "metadata": {},
   "outputs": [],
   "source": [
    "train_df = combined[combined[\"train\"] == 1]\n",
    "test_df = combined[combined[\"train\"] == 0]\n"
   ]
  },
  {
   "cell_type": "code",
   "execution_count": 89,
   "metadata": {},
   "outputs": [],
   "source": [
    "train_df.drop([\"train\"], axis=1, inplace=True)\n",
    "train_df.drop(['enrollee_id'],axis=1, inplace=True)\n",
    "test_df.drop([\"train\"], axis=1, inplace=True)\n"
   ]
  },
  {
   "cell_type": "code",
   "execution_count": 90,
   "metadata": {},
   "outputs": [
    {
     "name": "stdout",
     "output_type": "stream",
     "text": [
      "<class 'pandas.core.frame.DataFrame'>\n",
      "Int64Index: 18359 entries, 0 to 18358\n",
      "Data columns (total 13 columns):\n",
      "city                      18359 non-null int64\n",
      "city_development_index    18359 non-null float64\n",
      "company_size              18359 non-null int64\n",
      "company_type              18359 non-null int64\n",
      "enrolled_university       18359 non-null int64\n",
      "enrolled_university.1     18359 non-null int64\n",
      "experience                18359 non-null int64\n",
      "gender                    18359 non-null int64\n",
      "last_new_job              18359 non-null int64\n",
      "major_discipline          18359 non-null int64\n",
      "relevent_experience       18359 non-null int64\n",
      "target                    18359 non-null float64\n",
      "training_hours            18359 non-null int64\n",
      "dtypes: float64(2), int64(11)\n",
      "memory usage: 2.0 MB\n",
      "<class 'pandas.core.frame.DataFrame'>\n",
      "Int64Index: 15021 entries, 0 to 15020\n",
      "Data columns (total 13 columns):\n",
      "city                      15021 non-null int64\n",
      "city_development_index    15021 non-null float64\n",
      "company_size              15021 non-null int64\n",
      "company_type              15021 non-null int64\n",
      "enrolled_university       15021 non-null int64\n",
      "enrolled_university.1     15021 non-null int64\n",
      "experience                15021 non-null int64\n",
      "gender                    15021 non-null int64\n",
      "last_new_job              15021 non-null int64\n",
      "major_discipline          15021 non-null int64\n",
      "relevent_experience       15021 non-null int64\n",
      "target                    0 non-null float64\n",
      "training_hours            15021 non-null int64\n",
      "dtypes: float64(2), int64(11)\n",
      "memory usage: 1.6 MB\n"
     ]
    }
   ],
   "source": [
    "id=test_df['enrollee_id']\n",
    "test_df.drop(['enrollee_id'],axis=1,inplace=True)\n",
    "train_df.info()\n",
    "test_df.info()\n"
   ]
  },
  {
   "cell_type": "code",
   "execution_count": 91,
   "metadata": {},
   "outputs": [
    {
     "name": "stdout",
     "output_type": "stream",
     "text": [
      "<class 'pandas.core.frame.DataFrame'>\n",
      "Int64Index: 18359 entries, 0 to 18358\n",
      "Data columns (total 13 columns):\n",
      "city                      18359 non-null int64\n",
      "city_development_index    18359 non-null float64\n",
      "company_size              18359 non-null int64\n",
      "company_type              18359 non-null int64\n",
      "enrolled_university       18359 non-null int64\n",
      "enrolled_university.1     18359 non-null int64\n",
      "experience                18359 non-null int64\n",
      "gender                    18359 non-null int64\n",
      "last_new_job              18359 non-null int64\n",
      "major_discipline          18359 non-null int64\n",
      "relevent_experience       18359 non-null int64\n",
      "target                    18359 non-null float64\n",
      "training_hours            18359 non-null int64\n",
      "dtypes: float64(2), int64(11)\n",
      "memory usage: 2.0 MB\n",
      "<class 'pandas.core.frame.DataFrame'>\n",
      "Int64Index: 15021 entries, 0 to 15020\n",
      "Data columns (total 13 columns):\n",
      "city                      15021 non-null int64\n",
      "city_development_index    15021 non-null float64\n",
      "company_size              15021 non-null int64\n",
      "company_type              15021 non-null int64\n",
      "enrolled_university       15021 non-null int64\n",
      "enrolled_university.1     15021 non-null int64\n",
      "experience                15021 non-null int64\n",
      "gender                    15021 non-null int64\n",
      "last_new_job              15021 non-null int64\n",
      "major_discipline          15021 non-null int64\n",
      "relevent_experience       15021 non-null int64\n",
      "target                    0 non-null float64\n",
      "training_hours            15021 non-null int64\n",
      "dtypes: float64(2), int64(11)\n",
      "memory usage: 1.6 MB\n"
     ]
    }
   ],
   "source": [
    "#train_df.replace(-1, np.nan, inplace=True)\n",
    "#test_df.replace(-1, np.nan, inplace=True)\n",
    "train_df.info()\n",
    "test_df.info()\n",
    "test_df.drop(['target'],axis=1,inplace=True)"
   ]
  },
  {
   "cell_type": "code",
   "execution_count": 92,
   "metadata": {},
   "outputs": [],
   "source": [
    "from sklearn.model_selection import train_test_split"
   ]
  },
  {
   "cell_type": "code",
   "execution_count": 93,
   "metadata": {},
   "outputs": [],
   "source": [
    "x_train, x_val, y_train, y_val = train_test_split(training_features, training_target,\n",
    "                                                  test_size = .1,\n",
    "                                                  random_state=12)"
   ]
  },
  {
   "cell_type": "code",
   "execution_count": 94,
   "metadata": {},
   "outputs": [
    {
     "data": {
      "text/plain": [
       "numpy.ndarray"
      ]
     },
     "execution_count": 94,
     "metadata": {},
     "output_type": "execute_result"
    }
   ],
   "source": [
    "from imblearn.over_sampling import SMOTE\n",
    "sm = SMOTE(random_state=12, ratio = 1.0)\n",
    "x_train_res, y_train_res = sm.fit_sample(x_train, y_train)"
   ]
  },
  {
   "cell_type": "code",
   "execution_count": 95,
   "metadata": {},
   "outputs": [],
   "source": [
    "#define X train\n",
    "#X = train_df\n",
    "#y_train indentified at the beginning \n",
    "#y = target\n",
    "#X.info()\n",
    "#y"
   ]
  },
  {
   "cell_type": "code",
   "execution_count": 99,
   "metadata": {},
   "outputs": [
    {
     "data": {
      "text/html": [
       "<div>\n",
       "<style scoped>\n",
       "    .dataframe tbody tr th:only-of-type {\n",
       "        vertical-align: middle;\n",
       "    }\n",
       "\n",
       "    .dataframe tbody tr th {\n",
       "        vertical-align: top;\n",
       "    }\n",
       "\n",
       "    .dataframe thead th {\n",
       "        text-align: right;\n",
       "    }\n",
       "</style>\n",
       "<table border=\"1\" class=\"dataframe\">\n",
       "  <thead>\n",
       "    <tr style=\"text-align: right;\">\n",
       "      <th></th>\n",
       "      <th>city</th>\n",
       "      <th>city_development_index</th>\n",
       "      <th>company_size</th>\n",
       "      <th>company_type</th>\n",
       "      <th>enrolled_university</th>\n",
       "      <th>enrolled_university.1</th>\n",
       "      <th>experience</th>\n",
       "      <th>gender</th>\n",
       "      <th>last_new_job</th>\n",
       "      <th>major_discipline</th>\n",
       "      <th>relevent_experience</th>\n",
       "      <th>training_hours</th>\n",
       "    </tr>\n",
       "  </thead>\n",
       "  <tbody>\n",
       "    <tr>\n",
       "      <th>7357</th>\n",
       "      <td>7</td>\n",
       "      <td>0.920</td>\n",
       "      <td>-1</td>\n",
       "      <td>0</td>\n",
       "      <td>1</td>\n",
       "      <td>0</td>\n",
       "      <td>10</td>\n",
       "      <td>0</td>\n",
       "      <td>0</td>\n",
       "      <td>0</td>\n",
       "      <td>0</td>\n",
       "      <td>75</td>\n",
       "    </tr>\n",
       "    <tr>\n",
       "      <th>12984</th>\n",
       "      <td>5</td>\n",
       "      <td>0.624</td>\n",
       "      <td>0</td>\n",
       "      <td>0</td>\n",
       "      <td>0</td>\n",
       "      <td>0</td>\n",
       "      <td>0</td>\n",
       "      <td>0</td>\n",
       "      <td>6</td>\n",
       "      <td>0</td>\n",
       "      <td>0</td>\n",
       "      <td>33</td>\n",
       "    </tr>\n",
       "    <tr>\n",
       "      <th>9171</th>\n",
       "      <td>5</td>\n",
       "      <td>0.624</td>\n",
       "      <td>-1</td>\n",
       "      <td>0</td>\n",
       "      <td>1</td>\n",
       "      <td>2</td>\n",
       "      <td>10</td>\n",
       "      <td>0</td>\n",
       "      <td>4</td>\n",
       "      <td>0</td>\n",
       "      <td>1</td>\n",
       "      <td>20</td>\n",
       "    </tr>\n",
       "    <tr>\n",
       "      <th>16918</th>\n",
       "      <td>5</td>\n",
       "      <td>0.624</td>\n",
       "      <td>2</td>\n",
       "      <td>0</td>\n",
       "      <td>0</td>\n",
       "      <td>0</td>\n",
       "      <td>15</td>\n",
       "      <td>0</td>\n",
       "      <td>0</td>\n",
       "      <td>0</td>\n",
       "      <td>1</td>\n",
       "      <td>27</td>\n",
       "    </tr>\n",
       "    <tr>\n",
       "      <th>2516</th>\n",
       "      <td>21</td>\n",
       "      <td>0.848</td>\n",
       "      <td>0</td>\n",
       "      <td>0</td>\n",
       "      <td>0</td>\n",
       "      <td>0</td>\n",
       "      <td>2</td>\n",
       "      <td>0</td>\n",
       "      <td>5</td>\n",
       "      <td>0</td>\n",
       "      <td>0</td>\n",
       "      <td>189</td>\n",
       "    </tr>\n",
       "  </tbody>\n",
       "</table>\n",
       "</div>"
      ],
      "text/plain": [
       "       city  city_development_index  company_size  company_type  \\\n",
       "7357      7                   0.920            -1             0   \n",
       "12984     5                   0.624             0             0   \n",
       "9171      5                   0.624            -1             0   \n",
       "16918     5                   0.624             2             0   \n",
       "2516     21                   0.848             0             0   \n",
       "\n",
       "       enrolled_university  enrolled_university.1  experience  gender  \\\n",
       "7357                     1                      0          10       0   \n",
       "12984                    0                      0           0       0   \n",
       "9171                     1                      2          10       0   \n",
       "16918                    0                      0          15       0   \n",
       "2516                     0                      0           2       0   \n",
       "\n",
       "       last_new_job  major_discipline  relevent_experience  training_hours  \n",
       "7357              0                 0                    0              75  \n",
       "12984             6                 0                    0              33  \n",
       "9171              4                 0                    1              20  \n",
       "16918             0                 0                    1              27  \n",
       "2516              5                 0                    0             189  "
      ]
     },
     "execution_count": 99,
     "metadata": {},
     "output_type": "execute_result"
    }
   ],
   "source": [
    "x_val.head()"
   ]
  },
  {
   "cell_type": "code",
   "execution_count": 100,
   "metadata": {
    "scrolled": false
   },
   "outputs": [
    {
     "data": {
      "text/plain": [
       "'\\'max_classifier=0\\nmax_j=0\\nmax_i=0\\nmax_k=0\\n\\nfor i in range(3,10):\\n    for j in range(25,1200,25):\\n        for k in [0.01,0.05,0.1]:\\n            clf=GradientBoostingRegressor(n_estimators=j, learning_rate=k,max_depth=i)\\n            clf.fit(x_train_res,y_train_res)\\n            y_pred=clf.predict(x_val)\\n            print(\\'max_depth: \\',i,\\' n_estimators: \\',j,\\'\\n\\',\\'learning rate\\',k)\\n            print(roc_auc_score(y_val, y_pred))\\n            if(roc_auc_score(y_val, y_pred)>max_classifier):\\n                max_classifier=roc_auc_score(y_val, y_pred)\\n                max_j=j\\n                max_k=k\\n                max_i=i\\nprint(\"Max score:\",max_classifier,\\'j:\\',max_j,\\'i\\',max_i,\\'k\\',max_k)\\n\\n                \\n#print(\\'max_depth: \\',i,\\' n_estimators: \\',j,\\'\\n\\',\\'learning rate\\',k,\\'\\n\\')\\n#print(roc_auc_score(y_val, y_pred))\\n#print(y_pred)\\n            \\n#i-6 j-700    \\n#from sklearn.svm import SVC\\n#clf=SVC()\\n#X_train, X_test, y_train, y_test = train_test_split(X, y, test_size=0.20, random_state=2)\\n#clf.fit(X_train,y_train)\\n#y_pred=clf.predict(X_test)\\n#print(roc_auc_score(y_test, y_pred))'"
      ]
     },
     "execution_count": 100,
     "metadata": {},
     "output_type": "execute_result"
    }
   ],
   "source": [
    "from sklearn.metrics import roc_auc_score\n",
    "from sklearn.ensemble import RandomForestClassifier\n",
    "from sklearn.model_selection import train_test_split\n",
    "import xgboost as xgb\n",
    "from scipy import arange\n",
    "from sklearn.svm import SVC\n",
    "from sklearn.linear_model import LogisticRegression\n",
    "from sklearn.ensemble import AdaBoostRegressor\n",
    "from sklearn.ensemble import RandomForestRegressor,GradientBoostingRegressor,GradientBoostingClassifier\n",
    "\n",
    "\n",
    "''''max_classifier=0\n",
    "max_j=0\n",
    "max_i=0\n",
    "max_k=0\n",
    "\n",
    "for i in range(3,10):\n",
    "    for j in range(25,1200,25):\n",
    "        for k in [0.01,0.05,0.1]:\n",
    "            clf=GradientBoostingRegressor(n_estimators=j, learning_rate=k,max_depth=i)\n",
    "            clf.fit(x_train_res,y_train_res)\n",
    "            y_pred=clf.predict(x_val)\n",
    "            print('max_depth: ',i,' n_estimators: ',j,'\\n','learning rate',k)\n",
    "            print(roc_auc_score(y_val, y_pred))\n",
    "            if(roc_auc_score(y_val, y_pred)>max_classifier):\n",
    "                max_classifier=roc_auc_score(y_val, y_pred)\n",
    "                max_j=j\n",
    "                max_k=k\n",
    "                max_i=i\n",
    "print(\"Max score:\",max_classifier,'j:',max_j,'i',max_i,'k',max_k)\n",
    "\n",
    "                \n",
    "#print('max_depth: ',i,' n_estimators: ',j,'\\n','learning rate',k,'\\n')\n",
    "#print(roc_auc_score(y_val, y_pred))\n",
    "#print(y_pred)\n",
    "            \n",
    "#i-6 j-700    \n",
    "#from sklearn.svm import SVC\n",
    "#clf=SVC()\n",
    "#X_train, X_test, y_train, y_test = train_test_split(X, y, test_size=0.20, random_state=2)\n",
    "#clf.fit(X_train,y_train)\n",
    "#y_pred=clf.predict(X_test)\n",
    "#print(roc_auc_score(y_test, y_pred))'''"
   ]
  },
  {
   "cell_type": "code",
   "execution_count": 101,
   "metadata": {
    "scrolled": false
   },
   "outputs": [
    {
     "data": {
      "text/plain": [
       "'max_classifier=[]\\nmax_i=[]\\nmax_j=[]\\n\\nfor i in range(6,7):\\n    for j in range(300,1200,100):\\n        clf=RandomForestClassifier(max_depth=i,n_estimators=j)\\n        clf.fit(x_train_res,y_train_res)\\n        y_pred=clf.predict(x_val)\\n        print(\\'max_depth: \\',i,\\' n_estimators: \\',j,\\'\\n\\')\\n        print(roc_auc_score(y_val, y_pred))\\n        if(roc_auc_score(y_val, y_pred)>max_classifier):\\n            max_classifier=roc_auc_score(y_val, y_pred)\\n            max_j=j\\n            max_k=k\\n            max_i=i\\nprint(\"Max score:\",max_classifier,\\'j:\\',max_j,\\'i\\')'"
      ]
     },
     "execution_count": 101,
     "metadata": {},
     "output_type": "execute_result"
    }
   ],
   "source": [
    "from sklearn.metrics import roc_auc_score\n",
    "from sklearn.ensemble import RandomForestRegressor\n",
    "from sklearn.model_selection import train_test_split\n",
    "\n",
    "'''max_classifier=[]\n",
    "max_i=[]\n",
    "max_j=[]\n",
    "\n",
    "for i in range(6,7):\n",
    "    for j in range(300,1200,100):\n",
    "        clf=RandomForestClassifier(max_depth=i,n_estimators=j)\n",
    "        clf.fit(x_train_res,y_train_res)\n",
    "        y_pred=clf.predict(x_val)\n",
    "        print('max_depth: ',i,' n_estimators: ',j,'\\n')\n",
    "        print(roc_auc_score(y_val, y_pred))\n",
    "        if(roc_auc_score(y_val, y_pred)>max_classifier):\n",
    "            max_classifier=roc_auc_score(y_val, y_pred)\n",
    "            max_j=j\n",
    "            max_k=k\n",
    "            max_i=i\n",
    "print(\"Max score:\",max_classifier,'j:',max_j,'i')'''\n",
    "\n",
    "#print(y_pred)\n",
    "            \n",
    "    \n",
    "#from sklearn.svm import SVC\n",
    "#clf=SVC()\n",
    "#X_train, X_test, y_train, y_test = train_test_split(X, y, test_size=0.20, random_state=2)\n",
    "#clf.fit(X_train,y_train)\n",
    "#y_pred=clf.predict(X_test)\n",
    "#print(roc_auc_score(y_test, y_pred))"
   ]
  },
  {
   "cell_type": "code",
   "execution_count": 102,
   "metadata": {},
   "outputs": [],
   "source": [
    "from sklearn.base import BaseEstimator, TransformerMixin, RegressorMixin, clone\n",
    "class AveragingModels(BaseEstimator, RegressorMixin, TransformerMixin):\n",
    "    def __init__(self, models):\n",
    "        self.models = models\n",
    "        \n",
    "    # we define clones of the original models to fit the data in\n",
    "    def fit(self, X, y):\n",
    "        self.models_ = [clone(x) for x in self.models]\n",
    "        \n",
    "        # Train cloned base models\n",
    "        for model in self.models_:\n",
    "            model.fit(X, y)\n",
    "\n",
    "        return self\n",
    "    \n",
    "    #Now we do the predictions for cloned models and average them\n",
    "    def predict(self, X):\n",
    "        predictions = np.column_stack([\n",
    "            model.predict(X) for model in self.models_\n",
    "        ])\n",
    "        return np.mean(predictions, axis=1)   "
   ]
  },
  {
   "cell_type": "code",
   "execution_count": 108,
   "metadata": {},
   "outputs": [
    {
     "name": "stdout",
     "output_type": "stream",
     "text": [
      "0.6707157604955265\n",
      "0.6698589125946318\n",
      "0.6710323468685478\n",
      "0.6722539573296629\n",
      "0.6701720578114247\n",
      "0.6683413626978665\n"
     ]
    }
   ],
   "source": [
    "LR=LogisticRegression()\n",
    "RF=RandomForestRegressor(max_depth=6,n_estimators=225)\n",
    "GB=GradientBoostingRegressor(n_estimators=750, learning_rate=0.02,max_depth=3)\n",
    "\n",
    "\n",
    "averaged_models = AveragingModels(models = (GB, RF, LR))\n",
    "\n",
    "averaged_models.fit(x_train_res,y_train_res)\n",
    "y_pred=averaged_models.predict(x_val)\n",
    "print(roc_auc_score(y_val, y_pred))\n",
    "\n"
   ]
  },
  {
   "cell_type": "code",
   "execution_count": 111,
   "metadata": {},
   "outputs": [],
   "source": [
    "#0.5-\n",
    "0.6665106675843083\n",
    "0.6675533379215416\n",
    "0.6660805230557467\n",
    "0.6677357192016518\n",
    "0.6680316586373021\n",
    "0.6670130763936682\n",
    "\n",
    "\n",
    "#1-\n",
    "0.67055918788713\n",
    "0.6706022023399862\n",
    "0.6705609084652443\n",
    "0.6708774948382656\n",
    "0.6710512732278046\n",
    "0.6709170681348933\n",
    "#clf=RandomForestClassifier(max_depth=5,n_estimators=1000)\n",
    "#clf=RandomForestClassifier(max_depth=3,n_estimators=1000)\n",
    "#clf=LogisticRegression()\n",
    "#clf=RandomForestRegressor(max_depth=3,n_estimators=)\n",
    "#clf.fit(x_train_res,y_train_res)\n",
    "#clf=GradientBoostingRegressor(n_estimators=750, learning_rate=0.03,max_depth=3)\n",
    "averaged_models = AveragingModels(models = (GB,RF,LR))\n",
    "\n",
    "averaged_models.fit(x_train_res,y_train_res)\n",
    "#clf=GradientBoostingRegressor(n_estimators=175, learning_rate=0.01,max_depth=5)\n",
    "#clf.fit(x_train_res,y_train_res)\n",
    "'''importances = clf.feature_importances_\n",
    "importances\n",
    "indices = np.argsort(importances)[::-1]\n",
    "\n",
    "# Print the feature ranking\n",
    "print(\"Feature ranking:\")\n",
    "\n",
    "for f in range(X.shape[1]):\n",
    "    print(\"%d. feature %d (%f)\" % (f + 1, indices[f], importances[indices[f]]))\n",
    "\n",
    "for f in range(X.shape[1]):\n",
    "    print(X.columns[indices[f]],end=', ')'''\n",
    "\n",
    "#y_pred=averaged_models.predict(test_df)\n",
    "y_pred=averaged_models.predict(test_df)"
   ]
  },
  {
   "cell_type": "code",
   "execution_count": 112,
   "metadata": {},
   "outputs": [
    {
     "name": "stdout",
     "output_type": "stream",
     "text": [
      "<class 'pandas.core.frame.DataFrame'>\n",
      "RangeIndex: 15021 entries, 0 to 15020\n",
      "Data columns (total 2 columns):\n",
      "enrollee_id    15021 non-null int64\n",
      "target         15021 non-null float64\n",
      "dtypes: float64(1), int64(1)\n",
      "memory usage: 234.8 KB\n"
     ]
    }
   ],
   "source": [
    "y_pred=pd.DataFrame(y_pred)\n",
    "y_pred['enrollee_id']=id\n",
    "y_pred['target']=y_pred[0]\n",
    "y_pred=y_pred[['enrollee_id','target']]\n",
    "y_pred.info()"
   ]
  },
  {
   "cell_type": "code",
   "execution_count": 113,
   "metadata": {},
   "outputs": [],
   "source": [
    "pd.DataFrame(y_pred).to_csv(\"submission.csv\")"
   ]
  },
  {
   "cell_type": "code",
   "execution_count": null,
   "metadata": {},
   "outputs": [],
   "source": []
  }
 ],
 "metadata": {
  "kernelspec": {
   "display_name": "Python 3",
   "language": "python",
   "name": "python3"
  },
  "language_info": {
   "codemirror_mode": {
    "name": "ipython",
    "version": 3
   },
   "file_extension": ".py",
   "mimetype": "text/x-python",
   "name": "python",
   "nbconvert_exporter": "python",
   "pygments_lexer": "ipython3",
   "version": "3.6.5"
  }
 },
 "nbformat": 4,
 "nbformat_minor": 2
}
